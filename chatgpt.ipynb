{
 "cells": [
  {
   "cell_type": "code",
   "execution_count": 27,
   "metadata": {},
   "outputs": [],
   "source": [
    "file_path = 'API_KEY.txt'\n",
    "\n",
    "with open(file_path, 'r') as file:\n",
    "        api_key = file.read()"
   ]
  },
  {
   "cell_type": "code",
   "execution_count": 28,
   "metadata": {},
   "outputs": [
    {
     "name": "stdout",
     "output_type": "stream",
     "text": [
      "['gamma.jpg', 'hema.jpg', 'kruidvat.jpg', 'vomar.jpg']\n"
     ]
    }
   ],
   "source": [
    "import os\n",
    "\n",
    "# get all file names of receipts in New folder -> receipts that need to be extracted. \n",
    "folder_path = 'fotos/New'\n",
    "file_names = os.listdir(folder_path)\n",
    "print(file_names)"
   ]
  },
  {
   "cell_type": "code",
   "execution_count": 32,
   "metadata": {},
   "outputs": [],
   "source": [
    "import base64\n",
    "import requests\n",
    "\n",
    "# functions\n",
    "\n",
    "def encode_image(image_path):\n",
    "  with open(image_path, \"rb\") as image_file:\n",
    "    return base64.b64encode(image_file.read()).decode('utf-8')\n",
    "  \n",
    "\n",
    "prompt = \"\"\"Geef informatie over de aankopen op de bon terug. Dit is een voorbeeld van de output, volg het zelfde format:\n",
    "{\"winkel\": \"Vomar\",\n",
    "    \"producten\": [\n",
    "    {\n",
    "        \"beschrijving\": \"Wokkels Naturel\",\n",
    "        \"aantal\": 1,\n",
    "        \"totaal prijs\": 2.69\n",
    "    },\n",
    "    {\n",
    "        \"beschrijving\": \"Unox Groente Soep\",\n",
    "        \"aantal\": 3,\n",
    "        \"totaal prijs\": 4.8\n",
    "    }\n",
    "    ],\n",
    "    \"totaal prijs\": 11.03,\n",
    "    \"totaal aantal producten\": 4,\n",
    "    \"datum\": \"20-12-2024\",\n",
    "    \"tijd\": 13:34,\n",
    "    \"winkel categorie\": \"Supermarkt\"}\n",
    "\n",
    "Per product, geef het totaal bedrag en geef alleen het totaal bedrag met korting er van af.\n",
    "\"\"\"\n",
    "  \n",
    "# prompt chatgpt\n",
    "def prompt_chatgpt(base64_image):\n",
    "  headers = {\n",
    "    \"Content-Type\": \"application/json\",\n",
    "    \"Authorization\": f\"Bearer {api_key}\"\n",
    "  }\n",
    "\n",
    "  payload = {\n",
    "    \"model\": \"gpt-4o-mini\",\n",
    "    \"messages\": [\n",
    "      {\n",
    "        \"role\": \"user\",\n",
    "        \"content\": [\n",
    "          {\n",
    "            \"type\": \"text\",\n",
    "            \"text\": prompt\n",
    "          },\n",
    "          {\n",
    "            \"type\": \"image_url\",\n",
    "            \"image_url\": {\n",
    "              \"url\": f\"data:image/jpeg;base64,{base64_image}\"\n",
    "            }\n",
    "          }\n",
    "        ]\n",
    "      }\n",
    "    ],\n",
    "    \"max_tokens\": 300\n",
    "  }\n",
    "\n",
    "  response = requests.post(\"https://api.openai.com/v1/chat/completions\", headers=headers, json=payload)\n",
    "  json_response = response.json()\n",
    "  txt_response = json_response['choices'][0]['message']['content']\n",
    "  return txt_response\n"
   ]
  },
  {
   "cell_type": "code",
   "execution_count": 35,
   "metadata": {},
   "outputs": [
    {
     "name": "stdout",
     "output_type": "stream",
     "text": [
      "```json\n",
      "{\n",
      "    \"winkel\": \"Hema\",\n",
      "    \"producten\": [\n",
      "        {\n",
      "            \"beschrijving\": \"String (3 stuks)\",\n",
      "            \"aantal\": 1,\n",
      "            \"totaal prijs\": 8.59\n",
      "        },\n",
      "        {\n",
      "            \"beschrijving\": \"String (4 stuks)\",\n",
      "            \"aantal\": 1,\n",
      "            \"totaal prijs\": 24.99\n",
      "        }\n",
      "    ],\n",
      "    \"totaal prijs\": 24.99,\n",
      "    \"totaal aantal producten\": 4,\n",
      "    \"datum\": \"07-11-2024\",\n",
      "    \"tijd\": \"13:49\",\n",
      "    \"winkel categorie\": \"Kleding\"\n",
      "}\n",
      "```\n"
     ]
    }
   ],
   "source": [
    "\n",
    "# for each foto of receipt extract information.\n",
    "for receipt in file_names[1:2]:\n",
    "    # encode each foto\n",
    "    image_path = f\"{folder_path}/{receipt}\"\n",
    "    base64_image = encode_image(image_path)\n",
    "\n",
    "    # prompt chatgpt to extract information from receipt\n",
    "    response = prompt_chatgpt(base64_image)\n",
    "    print(response)\n"
   ]
  },
  {
   "cell_type": "code",
   "execution_count": 22,
   "metadata": {},
   "outputs": [
    {
     "name": "stdout",
     "output_type": "stream",
     "text": [
      "{\"winkel\": \"Kruidvat\",\n",
      "    \"producten\": [\n",
      "    {\n",
      "        \"beschrijving\": \"Kerstkaarten\",\n",
      "        \"aantal\": 2,\n",
      "        \"totaal prijs\": 5.98\n",
      "    }\n",
      "    ],\n",
      "    \"totaal prijs\": 5.98,\n",
      "    \"totaal aantal producten\": 2,\n",
      "    \"datum\": \"19-12-2024\",\n",
      "    \"tijd\": \"16:36\",\n",
      "    \"winkel categorie\": \"Drogerij\"}\n"
     ]
    }
   ],
   "source": [
    "import json\n",
    "import re\n",
    "import pandas as pd\n",
    "\n",
    "def extract_csv_from_response(response):\n",
    "    response = re.search(r'\\{.*\\}', response, re.DOTALL).group()\n",
    "    print(response)\n",
    "    data = json.loads(response)\n",
    "\n",
    "    df = pd.DataFrame(data['producten'])\n",
    "    df['winkel'] = data['winkel']\n",
    "    df['datum'] = data['datum']\n",
    "    df['tijd'] = data['tijd']\n",
    "    df['winkel categorie'] = data['winkel categorie']\n",
    "    df['prijs per product*'] = df['totaal prijs']/df['aantal']\n",
    "    df = df[['winkel', 'datum', 'tijd', 'beschrijving', 'prijs per product*', 'aantal', 'totaal prijs', 'winkel categorie']]\n",
    "\n",
    "    return df    \n",
    "\n",
    "\n",
    "records_products = extract_csv_from_response(txt_response)"
   ]
  },
  {
   "cell_type": "code",
   "execution_count": null,
   "metadata": {},
   "outputs": [],
   "source": []
  }
 ],
 "metadata": {
  "kernelspec": {
   "display_name": "Python 3",
   "language": "python",
   "name": "python3"
  },
  "language_info": {
   "codemirror_mode": {
    "name": "ipython",
    "version": 3
   },
   "file_extension": ".py",
   "mimetype": "text/x-python",
   "name": "python",
   "nbconvert_exporter": "python",
   "pygments_lexer": "ipython3",
   "version": "3.11.5"
  }
 },
 "nbformat": 4,
 "nbformat_minor": 2
}
