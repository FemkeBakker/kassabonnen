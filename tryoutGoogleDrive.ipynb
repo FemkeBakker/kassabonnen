{
 "cells": [
  {
   "cell_type": "code",
   "execution_count": 1,
   "metadata": {},
   "outputs": [],
   "source": [
    "import pandas as pd"
   ]
  },
  {
   "cell_type": "code",
   "execution_count": 2,
   "metadata": {},
   "outputs": [],
   "source": [
    "path = \"G:\\Mijn Drive\\Kassabonnen\"\n",
    "\n",
    "file = pd.read_csv(f\"{path}/ground_data/overview_csv.csv\")"
   ]
  },
  {
   "cell_type": "code",
   "execution_count": 3,
   "metadata": {},
   "outputs": [
    {
     "data": {
      "application/vnd.microsoft.datawrangler.viewer.v0+json": {
       "columns": [
        {
         "name": "index",
         "rawType": "int64",
         "type": "integer"
        },
        {
         "name": "winkel",
         "rawType": "object",
         "type": "string"
        },
        {
         "name": "datum",
         "rawType": "object",
         "type": "string"
        },
        {
         "name": "tijd",
         "rawType": "object",
         "type": "string"
        },
        {
         "name": "totaal prijs",
         "rawType": "float64",
         "type": "float"
        },
        {
         "name": "totaal aantal",
         "rawType": "int64",
         "type": "integer"
        },
        {
         "name": "winkel categorie",
         "rawType": "object",
         "type": "string"
        },
        {
         "name": "id",
         "rawType": "object",
         "type": "string"
        },
        {
         "name": "time_chatgpt_response",
         "rawType": "float64",
         "type": "float"
        },
        {
         "name": "date extracted",
         "rawType": "object",
         "type": "string"
        },
        {
         "name": "response",
         "rawType": "object",
         "type": "string"
        }
       ],
       "conversionMethod": "pd.DataFrame",
       "ref": "9951aeb1-c121-4deb-9381-edc9830b6b07",
       "rows": [
        [
         "0",
         "Lidl",
         "23-12-2024",
         "14:46",
         "69.63",
         "29",
         "Supermarkt",
         "Lidl23-12-202414-46",
         "33.789302349090576",
         "2024-12-23",
         "Hier is de informatie over de aankopen op de bon:\n\n```json\n{\n    \"winkel\": \"Lidl\",\n    \"producten\": [\n        {\n            \"beschrijving\": \"Zonnebloemolie\",\n            \"aantal\": 2,\n            \"totaal prijs\": 8.98\n        },\n        {\n            \"beschrijving\": \"Pastaus Napoli\",\n            \"aantal\": 1,\n            \"totaal prijs\": 2.98\n        },\n        {\n            \"beschrijving\": \"Picco pizza\",\n            \"aantal\": 1,\n            \"totaal prijs\": 2.98\n        },\n        {\n            \"beschrijving\": \"Halfvolle melkdrink\",\n            \"aantal\": 4,\n            \"totaal prijs\": 3.49\n        },\n        {\n            \"beschrijving\": \"Bonnenrolletje in spek\",\n            \"aantal\": 1,\n            \"totaal prijs\": 1.89\n        },\n        {\n            \"beschrijving\": \"Feta kaas\",\n            \"aantal\": 1,\n            \"totaal prijs\": 1.29\n        },\n        {\n            \"beschrijving\": \"Melkchocolade\",\n            \"aantal\": 1,\n            \"totaal prijs\": 0.78\n        },\n        {\n            \"beschrijving\": \"Witte chocolade\",\n            \"aantal\": 1,\n            \"totaal prijs\": 1.19\n        },\n        {\n            \"beschrijving\": \"Pure chocolade\",\n            \"aantal\": 1,\n            \"totaal prijs\": 0.89\n        },\n        {\n            \"beschrijving\": \"Slagroom houdbaar\",\n            \"aantal\": 1,\n            \"totaal prijs\": 1.49\n        },\n        {\n            \"beschrijving\": \"Pestop genovese\",\n            \"aantal\": 1,\n            \"totaal prijs\": 1.98\n        },\n        {\n            \"beschrijving\": \"Ontbijtkoek\",\n            \"aantal\": 1,\n            \"totaal prijs\": 2.39\n        },\n        {\n            \"beschrijving\": \"Kipfilet\",\n            \"aantal\": 1,\n            \"totaal prijs\": 2.99\n        },\n        {\n            \"beschrijving\": \"Schouderham rond\",\n            \"aantal\": 1,\n            \"totaal prijs\": 1.99\n        },\n        {\n            \"beschrijving\": \"Zeevruchten nougat-pralin\",\n            \"aantal\": 1,\n            \"totaal prijs\": 1.49\n        },\n        {\n            \"beschrijving\": \"Rich tea biscuits\",\n            \"aantal\": 1,\n            \"totaal prijs\": 1.49\n        },\n        {\n            \"beschrijving\": \"Verse kruidenkaas\",\n            \"aantal\": 1,\n            \"totaal prijs\": 1.59\n        },\n        {\n            \"beschrijving\": \"Groene olijven\",\n            \"aantal\": 1,\n            \"totaal prijs\": 0.99\n        },\n        {\n            \"beschrijving\": \"Croutons\",\n            \"aantal\": 1,\n            \"totaal prijs\": 0.88\n        },\n        {\n            \"beschrijving\": \"Sperziebonen\",\n            \"aantal\": 1,\n            \"totaal prijs\": 0.99\n        },\n        {\n            \"beschrijving\": \"Zoete aardappelen\",\n            \"aantal\": 1,\n            \"totaal prijs\": 0.69\n        },\n        {\n            \"beschrijving\": \"Komkommer\",\n            \"aantal\": 1,\n            \"totaal prijs\": 1.49\n        },\n        {\n            \"beschrijving\": \"Bananen\",\n            \"aantal\": 1,\n            \"totaal prijs\": 0.67\n        },\n        {\n            \"beschrijving\": \"Mango\",\n            \"aantal\": 1,\n            \"totaal prijs\": 1.49\n        },\n        {\n            \"beschrijving\": \"Perse Nashi\",\n            \"aantal\": 1,\n            \"totaal prijs\": 1.49\n        },\n        {\n            \"beschrijving\": \"Basilicum bio\",\n            \"aantal\": 1,\n            \"totaal prijs\": 1.29\n        },\n        {\n            \"beschrijving\": \"Ananas\",\n            \"aantal\": 1,\n            \"totaal prijs\": 1.69\n        },\n        {\n            \"beschrijving\": \"Luxe toetjes\",\n            \"aantal\": 1,\n            \"totaal prijs\": 1.99\n        },\n        {\n            \"beschrijving\": \"Zoete rode puntpaprika\",\n            \"aantal\": 1,\n            \"totaal prijs\": 2.99\n        },\n        {\n            \"beschrijving\": \"Verse rauwe cake Belgisch\",\n            \"aantal\": 1,\n            \"totaal prijs\": 3.89\n        },\n        {\n            \"beschrijving\": \"Mini bavarois\",\n            \"aantal\": 1,\n            \"totaal prijs\": 2.89\n        }\n    ],\n    \"totaal prijs\": 69.63,\n    \"totaal aantal producten\": 29,\n    \"datum\": \"23-12-2024\",\n    \"tijd\": \"14:46\",\n    \"winkel categorie\": \"Supermarkt\"\n}\n```"
        ],
        [
         "1",
         "Gamma",
         "04-12-2024",
         "10:15",
         "29.48",
         "2",
         "Doe-Het-Zelf",
         "Gamma04-12-202410-15",
         "7.681937456130981",
         "2024-12-24",
         "```json\n{\n    \"winkel\": \"Gamma\",\n    \"producten\": [\n        {\n            \"beschrijving\": \"Montagetape Tesa\",\n            \"aantal\": 1,\n            \"totaal prijs\": 6.49\n        },\n        {\n            \"beschrijving\": \"3M Fijnstofmasker Ventiel Tegen Geur\",\n            \"aantal\": 1,\n            \"totaal prijs\": 22.99\n        }\n    ],\n    \"totaal prijs\": 29.48,\n    \"totaal aantal producten\": 2,\n    \"datum\": \"04-12-2024\",\n    \"tijd\": \"10:15\",\n    \"winkel categorie\": \"Doe-Het-Zelf\"\n}\n```"
        ],
        [
         "2",
         "Hema",
         "07-11-2024",
         "13:49",
         "24.99",
         "7",
         "Kleding",
         "Hema07-11-202413-49",
         "8.818941831588745",
         "2024-12-24",
         "```json\n{\n    \"winkel\": \"Hema\",\n    \"producten\": [\n        {\n            \"beschrijving\": \"String\",\n            \"aantal\": 3,\n            \"totaal prijs\": 8.59\n        },\n        {\n            \"beschrijving\": \"Ondergoed 4 voor\",\n            \"aantal\": 4,\n            \"totaal prijs\": 24.99\n        }\n    ],\n    \"totaal prijs\": 24.99,\n    \"totaal aantal producten\": 7,\n    \"datum\": \"07-11-2024\",\n    \"tijd\": \"13:49\",\n    \"winkel categorie\": \"Kleding\"\n}\n```"
        ],
        [
         "3",
         "Kruidvat",
         "19-12-2024",
         "16:36",
         "5.98",
         "2",
         "Drogisterij",
         "Kruidvat19-12-202416-36",
         "7.626003265380859",
         "2024-12-24",
         "```json\n{\n    \"winkel\": \"Kruidvat\",\n    \"producten\": [\n        {\n            \"beschrijving\": \"Kerstkaarten\",\n            \"aantal\": 2,\n            \"totaal prijs\": 5.98\n        }\n    ],\n    \"totaal prijs\": 5.98,\n    \"totaal aantal producten\": 2,\n    \"datum\": \"19-12-2024\",\n    \"tijd\": \"16:36\",\n    \"winkel categorie\": \"Drogisterij\"\n}\n```"
        ],
        [
         "4",
         "Vomar",
         "02-12-2024",
         "12:14",
         "8.69",
         "4",
         "Supermarkt",
         "Vomar02-12-202412-14",
         "11.834022045135498",
         "2024-12-24",
         "```json\n{\n    \"winkel\": \"Vomar\",\n    \"producten\": [\n        {\n            \"beschrijving\": \"Wokkels Naturel\",\n            \"aantal\": 1,\n            \"totaal prijs\": 2.15\n        },\n        {\n            \"beschrijving\": \"Kalkoenfilet\",\n            \"aantal\": 1,\n            \"totaal prijs\": 2.89\n        },\n        {\n            \"beschrijving\": \"Oizini Panini\",\n            \"aantal\": 1,\n            \"totaal prijs\": 2.29\n        },\n        {\n            \"beschrijving\": \"Vici Surimi Sticks\",\n            \"aantal\": 1,\n            \"totaal prijs\": 1.36\n        }\n    ],\n    \"totaal prijs\": 8.69,\n    \"totaal aantal producten\": 4,\n    \"datum\": \"02-12-2024\",\n    \"tijd\": \"12:14\",\n    \"winkel categorie\": \"Supermarkt\"\n}\n```"
        ]
       ],
       "shape": {
        "columns": 10,
        "rows": 5
       }
      },
      "text/html": [
       "<div>\n",
       "<style scoped>\n",
       "    .dataframe tbody tr th:only-of-type {\n",
       "        vertical-align: middle;\n",
       "    }\n",
       "\n",
       "    .dataframe tbody tr th {\n",
       "        vertical-align: top;\n",
       "    }\n",
       "\n",
       "    .dataframe thead th {\n",
       "        text-align: right;\n",
       "    }\n",
       "</style>\n",
       "<table border=\"1\" class=\"dataframe\">\n",
       "  <thead>\n",
       "    <tr style=\"text-align: right;\">\n",
       "      <th></th>\n",
       "      <th>winkel</th>\n",
       "      <th>datum</th>\n",
       "      <th>tijd</th>\n",
       "      <th>totaal prijs</th>\n",
       "      <th>totaal aantal</th>\n",
       "      <th>winkel categorie</th>\n",
       "      <th>id</th>\n",
       "      <th>time_chatgpt_response</th>\n",
       "      <th>date extracted</th>\n",
       "      <th>response</th>\n",
       "    </tr>\n",
       "  </thead>\n",
       "  <tbody>\n",
       "    <tr>\n",
       "      <th>0</th>\n",
       "      <td>Lidl</td>\n",
       "      <td>23-12-2024</td>\n",
       "      <td>14:46</td>\n",
       "      <td>69.63</td>\n",
       "      <td>29</td>\n",
       "      <td>Supermarkt</td>\n",
       "      <td>Lidl23-12-202414-46</td>\n",
       "      <td>33.789302</td>\n",
       "      <td>2024-12-23</td>\n",
       "      <td>Hier is de informatie over de aankopen op de b...</td>\n",
       "    </tr>\n",
       "    <tr>\n",
       "      <th>1</th>\n",
       "      <td>Gamma</td>\n",
       "      <td>04-12-2024</td>\n",
       "      <td>10:15</td>\n",
       "      <td>29.48</td>\n",
       "      <td>2</td>\n",
       "      <td>Doe-Het-Zelf</td>\n",
       "      <td>Gamma04-12-202410-15</td>\n",
       "      <td>7.681937</td>\n",
       "      <td>2024-12-24</td>\n",
       "      <td>```json\\n{\\n    \"winkel\": \"Gamma\",\\n    \"produ...</td>\n",
       "    </tr>\n",
       "    <tr>\n",
       "      <th>2</th>\n",
       "      <td>Hema</td>\n",
       "      <td>07-11-2024</td>\n",
       "      <td>13:49</td>\n",
       "      <td>24.99</td>\n",
       "      <td>7</td>\n",
       "      <td>Kleding</td>\n",
       "      <td>Hema07-11-202413-49</td>\n",
       "      <td>8.818942</td>\n",
       "      <td>2024-12-24</td>\n",
       "      <td>```json\\n{\\n    \"winkel\": \"Hema\",\\n    \"produc...</td>\n",
       "    </tr>\n",
       "    <tr>\n",
       "      <th>3</th>\n",
       "      <td>Kruidvat</td>\n",
       "      <td>19-12-2024</td>\n",
       "      <td>16:36</td>\n",
       "      <td>5.98</td>\n",
       "      <td>2</td>\n",
       "      <td>Drogisterij</td>\n",
       "      <td>Kruidvat19-12-202416-36</td>\n",
       "      <td>7.626003</td>\n",
       "      <td>2024-12-24</td>\n",
       "      <td>```json\\n{\\n    \"winkel\": \"Kruidvat\",\\n    \"pr...</td>\n",
       "    </tr>\n",
       "    <tr>\n",
       "      <th>4</th>\n",
       "      <td>Vomar</td>\n",
       "      <td>02-12-2024</td>\n",
       "      <td>12:14</td>\n",
       "      <td>8.69</td>\n",
       "      <td>4</td>\n",
       "      <td>Supermarkt</td>\n",
       "      <td>Vomar02-12-202412-14</td>\n",
       "      <td>11.834022</td>\n",
       "      <td>2024-12-24</td>\n",
       "      <td>```json\\n{\\n    \"winkel\": \"Vomar\",\\n    \"produ...</td>\n",
       "    </tr>\n",
       "  </tbody>\n",
       "</table>\n",
       "</div>"
      ],
      "text/plain": [
       "     winkel       datum   tijd  totaal prijs  totaal aantal winkel categorie  \\\n",
       "0      Lidl  23-12-2024  14:46         69.63             29       Supermarkt   \n",
       "1     Gamma  04-12-2024  10:15         29.48              2     Doe-Het-Zelf   \n",
       "2      Hema  07-11-2024  13:49         24.99              7          Kleding   \n",
       "3  Kruidvat  19-12-2024  16:36          5.98              2      Drogisterij   \n",
       "4     Vomar  02-12-2024  12:14          8.69              4       Supermarkt   \n",
       "\n",
       "                        id  time_chatgpt_response date extracted  \\\n",
       "0      Lidl23-12-202414-46              33.789302     2024-12-23   \n",
       "1     Gamma04-12-202410-15               7.681937     2024-12-24   \n",
       "2      Hema07-11-202413-49               8.818942     2024-12-24   \n",
       "3  Kruidvat19-12-202416-36               7.626003     2024-12-24   \n",
       "4     Vomar02-12-202412-14              11.834022     2024-12-24   \n",
       "\n",
       "                                            response  \n",
       "0  Hier is de informatie over de aankopen op de b...  \n",
       "1  ```json\\n{\\n    \"winkel\": \"Gamma\",\\n    \"produ...  \n",
       "2  ```json\\n{\\n    \"winkel\": \"Hema\",\\n    \"produc...  \n",
       "3  ```json\\n{\\n    \"winkel\": \"Kruidvat\",\\n    \"pr...  \n",
       "4  ```json\\n{\\n    \"winkel\": \"Vomar\",\\n    \"produ...  "
      ]
     },
     "execution_count": 3,
     "metadata": {},
     "output_type": "execute_result"
    }
   ],
   "source": [
    "file"
   ]
  },
  {
   "cell_type": "code",
   "execution_count": null,
   "metadata": {},
   "outputs": [],
   "source": []
  }
 ],
 "metadata": {
  "kernelspec": {
   "display_name": "Python 3",
   "language": "python",
   "name": "python3"
  },
  "language_info": {
   "codemirror_mode": {
    "name": "ipython",
    "version": 3
   },
   "file_extension": ".py",
   "mimetype": "text/x-python",
   "name": "python",
   "nbconvert_exporter": "python",
   "pygments_lexer": "ipython3",
   "version": "3.11.5"
  }
 },
 "nbformat": 4,
 "nbformat_minor": 2
}
